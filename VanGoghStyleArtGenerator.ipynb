{
  "nbformat": 4,
  "nbformat_minor": 0,
  "metadata": {
    "colab": {
      "provenance": []
    },
    "kernelspec": {
      "name": "python3",
      "display_name": "Python 3"
    },
    "language_info": {
      "name": "python"
    }
  },
  "cells": [
    {
      "cell_type": "code",
      "execution_count": null,
      "metadata": {
        "id": "cVXEdmT4tDOx"
      },
      "outputs": [],
      "source": [
        "from google.colab import files\n",
        "uploaded = files.upload()"
      ]
    },
    {
      "cell_type": "code",
      "source": [
        "!pip install -q diffusers transformers accelerate xformers bitsandbytes gradio huggingface_hub"
      ],
      "metadata": {
        "id": "h3Mf0AqgNntq"
      },
      "execution_count": null,
      "outputs": []
    },
    {
      "cell_type": "code",
      "source": [
        "from huggingface_hub import notebook_login\n",
        "notebook_login()"
      ],
      "metadata": {
        "id": "MNLcL3LDNv_o"
      },
      "execution_count": null,
      "outputs": []
    },
    {
      "cell_type": "code",
      "source": [
        "import os\n",
        "from zipfile import ZipFile\n",
        "from PIL import Image"
      ],
      "metadata": {
        "id": "Vo3eBDsNNzkA"
      },
      "execution_count": null,
      "outputs": []
    },
    {
      "cell_type": "code",
      "source": [
        "instance_dir = \"/content/dataset/instance\"\n",
        "os.makedirs(instance_dir, exist_ok=True)"
      ],
      "metadata": {
        "id": "WaSWaJvpN3kA"
      },
      "execution_count": null,
      "outputs": []
    },
    {
      "cell_type": "code",
      "source": [
        "with ZipFile(\"archive.zip\", 'r') as zip_ref:\n",
        "    zip_ref.extractall(\"temp_vangogh\")"
      ],
      "metadata": {
        "id": "DosKSUpCN-sv"
      },
      "execution_count": null,
      "outputs": []
    },
    {
      "cell_type": "code",
      "source": [
        "for i, file in enumerate(os.listdir(\"temp_vangogh\")):\n",
        "    if file.lower().endswith((\".jpg\", \".png\")):\n",
        "        img = Image.open(os.path.join(\"temp_vangogh\", file)).convert(\"RGB\")\n",
        "        img = img.resize((512, 512))\n",
        "        img.save(os.path.join(instance_dir, f\"vangogh_{i}.jpg\"))\n",
        "\n",
        "print(f\"Saved {i+1} images to {instance_dir}\")"
      ],
      "metadata": {
        "id": "wQSRqgIPOCj6"
      },
      "execution_count": null,
      "outputs": []
    },
    {
      "cell_type": "code",
      "source": [
        "!accelerate config default\n",
        "\n",
        "!accelerate launch \\\n",
        "  /usr/local/lib/python3.10/dist-packages/diffusers/commands/train_dreambooth.py \\\n",
        "  --pretrained_model_name_or_path=\"runwayml/stable-diffusion-v1-5\" \\\n",
        "  --instance_data_dir=\"{instance_dir}\" \\\n",
        "  --output_dir=\"/content/vangogh_model\" \\\n",
        "  --instance_prompt=\"a painting in vangogh style\" \\\n",
        "  --resolution=512 \\\n",
        "  --train_batch_size=1 \\\n",
        "  --gradient_accumulation_steps=4 \\\n",
        "  --learning_rate=5e-6 \\\n",
        "  --lr_scheduler=\"constant\" \\\n",
        "  --max_train_steps=800 \\\n",
        "  --mixed_precision=\"fp16\" \\\n",
        "  --use_8bit_adam"
      ],
      "metadata": {
        "id": "i0ts36xEOD8t"
      },
      "execution_count": null,
      "outputs": []
    },
    {
      "cell_type": "code",
      "source": [
        "from diffusers import StableDiffusionPipeline\n",
        "import torch\n",
        "\n",
        "pipe = StableDiffusionPipeline.from_pretrained(\"/content/vangogh_model\", torch_dtype=torch.float16).to(\"cuda\")\n",
        "\n",
        "prompt = \"a fantasy landscape in vangogh style\"\n",
        "image = pipe(prompt).images[0]\n",
        "image.save(\"/content/generated_vangogh.png\")\n",
        "image.show()"
      ],
      "metadata": {
        "id": "QcYCU96IOIEx"
      },
      "execution_count": null,
      "outputs": []
    },
    {
      "cell_type": "code",
      "source": [
        "import gradio as gr\n",
        "\n",
        "def generate(prompt):\n",
        "    return pipe(prompt).images[0]\n",
        "\n",
        "gr.Interface(fn=generate, inputs=\"text\", outputs=\"image\", title=\"Van Gogh Style Generator\").launch()"
      ],
      "metadata": {
        "id": "dA6Puho6OMHZ"
      },
      "execution_count": null,
      "outputs": []
    }
  ]
}